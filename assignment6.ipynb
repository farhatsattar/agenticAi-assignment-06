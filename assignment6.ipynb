{
  "nbformat": 4,
  "nbformat_minor": 0,
  "metadata": {
    "colab": {
      "provenance": []
    },
    "kernelspec": {
      "name": "python3",
      "display_name": "Python 3"
    },
    "language_info": {
      "name": "python"
    }
  },
  "cells": [
    {
      "cell_type": "code",
      "source": [
        "from google.colab import userdata\n",
        "import os\n",
        "\n",
        "os.environ['GOOGLE_API_KEY'] = userdata.get('GOOGLE_API_KEY_5')\n"
      ],
      "metadata": {
        "id": "nNS0XrFYGqBQ"
      },
      "execution_count": null,
      "outputs": []
    },
    {
      "cell_type": "code",
      "source": [
        "# API Key setup\n",
        "from google.colab import userdata\n",
        "GEMINI_API_KEY: str = userdata.get('GOOGLE_API_KEY_5')\n",
        "if(GEMINI_API_KEY):\n",
        "  print(\"API Key found\")\n",
        "else:\n",
        "  print(\"API Key not found\")"
      ],
      "metadata": {
        "id": "pY7c9Tl6oNI4",
        "colab": {
          "base_uri": "https://localhost:8080/"
        },
        "outputId": "c5c68026-f36d-4b19-f45b-b40f08d9764a"
      },
      "execution_count": 2,
      "outputs": [
        {
          "output_type": "stream",
          "name": "stdout",
          "text": [
            "API Key found\n"
          ]
        }
      ]
    },
    {
      "cell_type": "code",
      "source": [
        "!pip install --upgrade --quiet langchain-google-genai"
      ],
      "metadata": {
        "colab": {
          "base_uri": "https://localhost:8080/"
        },
        "id": "IhW8rZv5Okqh",
        "outputId": "9dd591b2-4f77-42af-e542-552478da17ae"
      },
      "execution_count": 4,
      "outputs": [
        {
          "output_type": "stream",
          "name": "stdout",
          "text": [
            "\u001b[?25l   \u001b[90m━━━━━━━━━━━━━━━━━━━━━━━━━━━━━━━━━━━━━━━━\u001b[0m \u001b[32m0.0/41.3 kB\u001b[0m \u001b[31m?\u001b[0m eta \u001b[36m-:--:--\u001b[0m\r\u001b[2K   \u001b[90m━━━━━━━━━━━━━━━━━━━━━━━━━━━━━━━━━━━━━━━━\u001b[0m \u001b[32m41.3/41.3 kB\u001b[0m \u001b[31m1.6 MB/s\u001b[0m eta \u001b[36m0:00:00\u001b[0m\n",
            "\u001b[?25h"
          ]
        }
      ]
    },
    {
      "cell_type": "code",
      "source": [
        "from langchain_google_genai import ChatGoogleGenerativeAI"
      ],
      "metadata": {
        "id": "2GeTPY8mZpsY"
      },
      "execution_count": 5,
      "outputs": []
    },
    {
      "cell_type": "code",
      "source": [
        "llm =  ChatGoogleGenerativeAI(\n",
        "    api_key = GEMINI_API_KEY,\n",
        "    model = \"gemini-2.0-flash-exp\",\n",
        ")\n"
      ],
      "metadata": {
        "id": "AxPId5K4aIQ3"
      },
      "execution_count": 6,
      "outputs": []
    },
    {
      "cell_type": "markdown",
      "source": [],
      "metadata": {
        "id": "QWpTic42ZLzY"
      }
    },
    {
      "cell_type": "code",
      "source": [
        "# Initilize and configure the client\n",
        "# Select the model\n",
        "from google import genai\n",
        "from google.genai import Client\n",
        "\n",
        "client: Client = genai.Client(\n",
        "    api_key=GEMINI_API_KEY,\n",
        ")\n",
        "\n",
        "model: str = \"gemini-2.0-flash-exp\""
      ],
      "metadata": {
        "id": "HVHrNeZgTmWG"
      },
      "execution_count": null,
      "outputs": []
    },
    {
      "cell_type": "markdown",
      "source": [
        "I used following prompt for generating a video:\n",
        "\"Create a one-minute video that explains the importance of learning English for personal and professional growth. The video should have an engaging and friendly tone, starting with a dynamic intro showing a person struggling to communicate in an international setting. Transition to scenes of them learning English through an AI-powered app and eventually succeeding in a business meeting, making new friends, and traveling with ease. Use clean and modern visuals, upbeat background music, and captions for accessibility. Include key phrases like 'Unlock Opportunities' and 'Learn with Confidence.' End with a call-to-action: 'Start your journey today!'\""
      ],
      "metadata": {
        "id": "aLml852Zo2tj"
      }
    },
    {
      "cell_type": "code",
      "source": [
        "video_file_name =\"/content/my_video.mp4\""
      ],
      "metadata": {
        "id": "knKBgc0PU3XA"
      },
      "execution_count": null,
      "outputs": []
    },
    {
      "cell_type": "code",
      "source": [
        "import time\n",
        "\n",
        "def upload_video(video_file_name):\n",
        "  video_file = client.files.upload(path=video_file_name)\n",
        "  while video_file.state == \"PROCESSING\":\n",
        "      print('Waiting for video to be processed.')\n",
        "      time.sleep(10)\n",
        "      video_file = client.files.get(name=video_file.name or \"\")\n",
        "\n",
        "  if video_file.state == \"FAILED\":\n",
        "    raise ValueError(video_file.state)\n",
        "  print(f'Video processing complete: ' + (video_file.uri or \"\"))\n",
        "\n",
        "  return video_file\n",
        "\n",
        "my_video = upload_video('my_video.mp4')"
      ],
      "metadata": {
        "colab": {
          "base_uri": "https://localhost:8080/"
        },
        "id": "BwYZQ-_gUr4H",
        "outputId": "2f42d19f-25bc-45bc-b611-6216a8bf5114"
      },
      "execution_count": null,
      "outputs": [
        {
          "output_type": "stream",
          "name": "stdout",
          "text": [
            "Waiting for video to be processed.\n",
            "Video processing complete: https://generativelanguage.googleapis.com/v1beta/files/3y5f36ki8i8j\n"
          ]
        }
      ]
    },
    {
      "cell_type": "code",
      "source": [
        "from google.genai.types import Content, Part\n",
        "from IPython.display import display, Markdown\n",
        "prompt = \"\"\"For each scene in this video,\n",
        "            generate captions that describe the scene along with any spoken text placed in quotation marks.\n",
        "            Place each caption into an object with the timecode of the caption in the video.\n",
        "         \"\"\"\n",
        "\n",
        "video = my_video\n",
        "\n",
        "response = client.models.generate_content(\n",
        "    model=model,\n",
        "    contents=[\n",
        "        Content(\n",
        "            role=\"user\",\n",
        "            parts=[\n",
        "                Part.from_uri(\n",
        "                    file_uri=video.uri or \"\",\n",
        "                    mime_type=video.mime_type or \"\"),\n",
        "                ]),\n",
        "        prompt,\n",
        "    ]\n",
        ")\n",
        "\n",
        "Markdown(response.text)\n"
      ],
      "metadata": {
        "colab": {
          "base_uri": "https://localhost:8080/",
          "height": 1000
        },
        "collapsed": true,
        "id": "OsgL9nyEXGro",
        "outputId": "b98010cc-fad3-4181-86da-6f63a1611aae"
      },
      "execution_count": null,
      "outputs": [
        {
          "output_type": "execute_result",
          "data": {
            "text/plain": [
              "<IPython.core.display.Markdown object>"
            ],
            "text/markdown": "```json\n[\n  {\n    \"timecode\": \"0:00\",\n    \"caption\": \"A person is speaking as they walk through a large building with many sofas. Text says: “I remember”.\"\n  },\n  {\n    \"timecode\": \"0:01\",\n    \"caption\": \"The view changes as the person walks to show more sofas and armchairs in the large building. Text says: “I remember the first time I found.”\"\n  },\n  {\n    \"timecode\": \"0:02\",\n    \"caption\": \"The person continues to walk through the large building and the text says: “myself in a bustling international.”\"\n  },\n  {\n    \"timecode\": \"0:03\",\n    \"caption\": \"The view moves to the other side of the large building where more people can be seen walking around. Text says: “everyone.”\"\n  },\n  {\n    \"timecode\":\"0:04\",\n    \"caption\":\"The view stays on the large building and the text says: “everyone was speaking English.”\"\n  },\n  {\n    \"timecode\": \"0:05\",\n    \"caption\": \"The view switches back to the sofas and the text says: “I felt completely lost.”\"\n  },\n  {\n    \"timecode\":\"0:07\",\n      \"caption\":\"The view switches back to the sofas and the text says: “It was frustrating, like being locked.”\"\n  },\n  {\n     \"timecode\": \"0:09\",\n    \"caption\": \"The view switches to an area where two beds are arranged in an open space, as the text says: “of a world full of opportunities.”\"\n  },\n    {\n    \"timecode\":\"0:12\",\n    \"caption\":\"The view switches back to the sofas and text says: “That’s when I decided to take action.”\"\n    },\n    {\n    \"timecode\":\"0:13\",\n     \"caption\":\"A young woman is writing as text says “discovered”.\"\n    },\n    {\n    \"timecode\":\"0:15\",\n     \"caption\":\"The young woman continues to write and text says: “I discovered an AI.”\"\n    },\n    {\n    \"timecode\":\"0:16\",\n     \"caption\":\"The young woman smiles as she continues to write as text says: “made learning English.”\"\n    },\n    {\n    \"timecode\":\"0:17\",\n     \"caption\":\"The young woman continues to write and the text says: “engaging and fun.”\"\n    },\n    {\n    \"timecode\":\"0:19\",\n     \"caption\":\"The young woman continues to write and the text says: “with each lesson.”\"\n    },\n    {\n     \"timecode\":\"0:20\",\n     \"caption\":\"The woman continues to write as the text says: “I felt more confident.”\"\n    },\n    {\n    \"timecode\":\"0:21\",\n     \"caption\":\"The woman is wearing a headset and the text says: “I practiced”.\"\n     },\n    {\n    \"timecode\":\"0:22\",\n     \"caption\":\"The woman is speaking into a microphone as the text says: “I practiced speaking, listening, and even.”\"\n    },\n    {\n     \"timecode\": \"0:26\",\n      \"caption\": \"The woman is smiling as text says “I started to unlock”. \"\n    },\n    {\n        \"timecode\":\"0:27\",\n        \"caption\": \"Text says: “one never thought possible”.\"\n    },\n    {\n       \"timecode\":\"0:29\",\n        \"caption\": \"Text says “suddenly”.\"\n    },\n    {\n       \"timecode\":\"0:30\",\n        \"caption\":\"A man at a meeting is talking as text says: “suddenly, I was able to participate.”\"\n    },\n    {\n      \"timecode\":\"0:31\",\n      \"caption\": \"The man continues to speak as text says: “meetings, share my ideas, and connect.”\"\n    },\n    {\n      \"timecode\":\"0:33\",\n        \"caption\":\"The man shakes hands with another man as text says: “colleagues from around.”\"\n    },\n    {\n        \"timecode\":\"0:34\",\n        \"caption\":\"The two men are shaking hands and text says: “learning”.\"\n    },\n    {\n       \"timecode\":\"0:35\",\n       \"caption\":\"The two men are shaking hands and text says: “learning English opened.”\"\n    },\n    {\n      \"timecode\":\"0:37\",\n      \"caption\": \"Text says “New”.\"\n    },\n   {\n      \"timecode\":\"0:38\",\n      \"caption\":\"A person’s hands are seen using a tablet as text says: “I made new friends, traveled with ease.”\"\n    },\n    {\n       \"timecode\":\"0:40\",\n      \"caption\": \"A woman is smiling as text says “experienced”.\"\n    },\n    {\n      \"timecode\":\"0:41\",\n     \"caption\":\"A woman is smiling and text says: “experienced different cultures without the barrier of language.”\"\n    },\n    {\n    \"timecode\":\"0:43\",\n    \"caption\":\"Animated blue spheres on white background with text that says “it’s amazing”.\"\n    },\n      {\n    \"timecode\":\"0:45\",\n      \"caption\":\"Text says “it’s amazing how much personal and” as text appears.\"\n   },\n   {\n      \"timecode\":\"0:46\",\n      \"caption\":\"The text changes to say “personal growth can come”. \"\n  },\n {\n      \"timecode\":\"0:48\",\n      \"caption\":\"Text says: “from mastering a language.”\"\n    },\n    {\n      \"timecode\":\"0:49\",\n      \"caption\":\"Text says: “so if you’re feeling”.\"\n    },\n {\n      \"timecode\":\"0:50\",\n      \"caption\":\"Text says: “so if you’re feeling stuck, remember”.\"\n    },\n    {\n      \"timecode\":\"0:51\",\n      \"caption\":\"Text says: “learning English is your key.”\"\n    },\n   {\n      \"timecode\":\"0:53\",\n      \"caption\":\"A man is presenting a slide as text says: “English is your key to success.”\"\n    },\n    {\n      \"timecode\":\"0:55\",\n      \"caption\":\"The man continues to present as text says: “embrace the journey”.\"\n    },\n    {\n    \"timecode\":\"0:56\",\n      \"caption\":\"The man continues to present as text says: “learn with confidence”.\"\n     },\n  {\n     \"timecode\":\"0:58\",\n      \"caption\":\"The man continues to present as text says: “and watch as your world”.\"\n     },\n{\n    \"timecode\":\"0:59\",\n    \"caption\":\"The man continues to present as text says: “expands”.\"\n  },\n  {\n     \"timecode\":\"1:00\",\n     \"caption\":\"The man continues to present as text says: “start your journey.”\"\n    },\n   {\n     \"timecode\":\"1:02\",\n     \"caption\":\"The screen goes white.\"\n   }\n]\n```"
          },
          "metadata": {},
          "execution_count": 24
        }
      ]
    },
    {
      "cell_type": "code",
      "source": [],
      "metadata": {
        "id": "o3ng7ZEIzmf1"
      },
      "execution_count": null,
      "outputs": []
    }
  ]
}